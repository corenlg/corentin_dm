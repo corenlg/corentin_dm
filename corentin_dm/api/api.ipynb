{
 "cells": [
  {
   "cell_type": "code",
   "execution_count": 518,
   "metadata": {},
   "outputs": [],
   "source": [
    "from flask import Flask, request, jsonify\n",
    "import mysql.connector\n",
    "import requests\n",
    "import json\n",
    "\n",
    "app = Flask(__name__)\n",
    "\n",
    "#permet de se connecter à ma banque données\n",
    "db = mysql.connector.connect(\n",
    "    host=\"localhost\", # l'herbergeur\n",
    "    user='root', #l'utilisateur\n",
    "    password='fLON111427!', #le mot de passe\n",
    "    database='corentin_lgp_dm' #le nom de ma base de données\n",
    ")\n",
    "cursor = db.cursor() # permet d'initier un curseur\n",
    "\n",
    "# Page d'acceuil quand on accède au serveur\n",
    "@app.route('/')\n",
    "def home_page():\n",
    "    return 'Hello, Database!'\n",
    "\n"
   ]
  },
  {
   "cell_type": "code",
   "execution_count": 519,
   "metadata": {},
   "outputs": [],
   "source": [
    "#permet d'accéder à toutes les tables\n",
    "@app.route('/tables', methods=['GET']) # on précise la méthode à utiliser\n",
    "def get_all_tables():\n",
    "    cursor.execute(\"SHOW TABLES\")\n",
    "    tables = cursor.fetchall()\n",
    "    return jsonify(tables)"
   ]
  },
  {
   "cell_type": "code",
   "execution_count": 520,
   "metadata": {},
   "outputs": [],
   "source": [
    "#permet d'accéder aux champs de la table phrase_originale\n",
    "@app.route('/tables/phrase_originale', methods=['GET']) # on précise la méthode à utiliser\n",
    "def get_content():\n",
    "    cursor.execute(\"SELECT * FROM phrase_originale\")\n",
    "    phrase_originale = cursor.fetchall()\n",
    "    return jsonify(phrase_originale)"
   ]
  },
  {
   "cell_type": "code",
   "execution_count": 521,
   "metadata": {},
   "outputs": [],
   "source": [
    "#permet d'accéder aux champs de la table trad_auto\n",
    "@app.route('/tables/trad_auto', methods=['GET']) # on précise la méthode à utiliser\n",
    "def get_content_2():\n",
    "    cursor.execute(\"SELECT * FROM trad_auto\")\n",
    "    trad_auto = cursor.fetchall()\n",
    "    return jsonify(trad_auto)"
   ]
  },
  {
   "cell_type": "code",
   "execution_count": 522,
   "metadata": {},
   "outputs": [],
   "source": [
    "#permet d'accéder aux champs de la table trad_hum\n",
    "@app.route('/tables/trad_hum', methods=['GET']) # on précise la méthode à utiliser\n",
    "def get_content_3():\n",
    "    cursor.execute(\"SELECT * FROM trad_hum\")\n",
    "    trad_hum = cursor.fetchall()\n",
    "    return jsonify(trad_hum)"
   ]
  },
  {
   "cell_type": "code",
   "execution_count": 523,
   "metadata": {},
   "outputs": [],
   "source": [
    "#permet d'accéder aux champs de la table trad_auto en fonction de l'ID\n",
    "@app.route('/tables/trad_auto/id/<int:trad_auto_id>', methods=['GET']) # on précise la méthode à utiliser\n",
    "def get_data_trad_id(trad_auto_id):\n",
    "    query = \"SELECT * FROM trad_auto WHERE trad_auto_id = %s\"\n",
    "    cursor.execute(query, (trad_auto_id,))\n",
    "    trad_auto_id = cursor.fetchone()\n",
    "    if trad_auto_id:\n",
    "        return jsonify(trad_auto_id)\n",
    "    else:\n",
    "        return jsonify({'error': 'not found'}), 404"
   ]
  },
  {
   "cell_type": "code",
   "execution_count": 524,
   "metadata": {},
   "outputs": [],
   "source": [
    "#permet d'accéder aux champs de la table trad_hum en fonction de l'ID\n",
    "@app.route('/tables/trad_hum/id/<int:trad_hum_id>', methods=['GET']) # on précise la méthode à utiliser\n",
    "def get_data_tradhum_id(trad_hum_id):\n",
    "    query = \"SELECT * FROM trad_hum WHERE trad_hum_id = %s\"\n",
    "    cursor.execute(query, (trad_hum_id,))\n",
    "    trad_hum_id = cursor.fetchone()\n",
    "    if trad_hum_id:\n",
    "        return jsonify(trad_hum_id)\n",
    "    else:\n",
    "        return jsonify({'error': 'not found'}), 404"
   ]
  },
  {
   "cell_type": "code",
   "execution_count": 525,
   "metadata": {},
   "outputs": [],
   "source": [
    "#permet d'accéder aux champs de la table phrase_originale en fonction de l'ID\n",
    "@app.route('/tables/phrase_originale/id/<int:phrase_id>', methods=['GET']) # on précise la méthode à utiliser\n",
    "def get_data_by_id(phrase_id):\n",
    "    query = \"SELECT * FROM phrase_originale WHERE phrase_id = %s\"\n",
    "    cursor.execute(query, (phrase_id,))\n",
    "    phrase_id = cursor.fetchone()\n",
    "    if phrase_id:\n",
    "        return jsonify(phrase_id)\n",
    "    else:\n",
    "        return jsonify({'error': 'not found'}), 404"
   ]
  },
  {
   "cell_type": "code",
   "execution_count": 512,
   "metadata": {},
   "outputs": [],
   "source": [
    "#permet d'ajouter des données\n",
    "@app.route('/add_data', methods=['POST']) # on précise la méthode à utiliser\n",
    "def add_data():\n",
    "    if request.method == 'POST':\n",
    "\n",
    "        phrase_texte = request.form['phrase_texte'] # on fait des requêtes en focntion des champs\n",
    "        texte_auto = request.form['texte_auto']  \n",
    "        texte_hum = request.form['texte_hum']\n",
    "        \n",
    "        # on établit une connection\n",
    "        try:\n",
    "            connection = db\n",
    "            cursor = connection.cursor()\n",
    "\n",
    "            # on ajoute des données en fonction de la table, de la colonne et des valeurs à ajouter\n",
    "            add_phrase_query = \"INSERT INTO phrase_originale (phrase_texte) VALUES (%s)\"\n",
    "            cursor.execute(add_phrase_query, (phrase_texte,))\n",
    "            \n",
    "            add_data2_query = \"INSERT INTO trad_auto (texte_auto) VALUES (%s)\"\n",
    "            cursor.execute(add_data2_query, (texte_auto,))\n",
    "\n",
    "            add_data3_query = \"INSERT INTO trad_hum (texte_hum) VALUES (%s)\"\n",
    "            cursor.execute(add_data3_query, (texte_hum,))\n",
    "\n",
    "            connection.commit() # le commit s'assurer que les ajouts sont pris en compte\n",
    "            cursor.close()\n",
    "            connection.close()\n",
    "\n",
    "            return 'Phrases Ajoutees' # message qui indique la réussite de la tâche\n",
    "\n",
    "        except mysql.connector.Error as error: # on gère les erreurs\n",
    "            return f'Error: {error}'"
   ]
  },
  {
   "cell_type": "code",
   "execution_count": 513,
   "metadata": {},
   "outputs": [],
   "source": [
    "# chemin qui permet de mettre à jour les données\n",
    "@app.route('/update_data/<int:item_id>', methods=['PUT']) # on précise la méthode à utiliser\n",
    "def update_data(item_id):\n",
    "    if request.method == 'PUT':\n",
    "        try:\n",
    "            # on fait des requêtes pour changer des valeurs\n",
    "            phrase_texte = request.form['phrase_texte']  \n",
    "            texte_auto = request.form['texte_auto']  \n",
    "            texte_hum = request.form['texte_hum']  \n",
    "\n",
    "            # on établit une connexion\n",
    "            connection = db\n",
    "            cursor = connection.cursor() # on ouvre un curseur\n",
    "\n",
    "            # on fait la mise à jour pour chacune des tables\n",
    "            update_phrase_query = \"UPDATE phrase_originale SET phrase_texte = %s WHERE phrase_id = %s\"\n",
    "            cursor.execute(update_phrase_query, (phrase_texte, item_id))\n",
    "            \n",
    "            \n",
    "            update_trad_auto_query = \"UPDATE trad_auto SET texte_auto = %s WHERE trad_auto_id = %s\"\n",
    "            cursor.execute(update_trad_auto_query, (texte_auto, item_id))\n",
    "            \n",
    "            \n",
    "            update_trad_hum_query = \"UPDATE trad_hum SET texte_hum = %s WHERE trad_hum_id = %s\"\n",
    "            cursor.execute(update_trad_hum_query, (texte_hum, item_id))\n",
    "\n",
    "            connection.commit() # on effectue un commit pour sauvegarder les changements\n",
    "            cursor.close() # on ferme le curseur\n",
    "            connection.close() # on ferme la connexion\n",
    "\n",
    "            return 'Donnees Mises a Jour' # message qui indique la réussite de la tâche\n",
    "\n",
    "        except mysql.connector.Error as error: # on gère les erreurs\n",
    "            return f'Error: {error}'"
   ]
  },
  {
   "cell_type": "code",
   "execution_count": 516,
   "metadata": {},
   "outputs": [],
   "source": [
    "# un chemin qui permet de supprimer des données\n",
    "@app.route('/delete_data/<int:item_id>', methods=['DELETE']) # on précise la méthode à utiliser\n",
    "def delete_data(item_id):\n",
    "    try:\n",
    "        # on établit une connexion \n",
    "        connection = db\n",
    "        cursor = connection.cursor() # on ouvre un curseur\n",
    "\n",
    "        # on supprime des données en fonction de l'id pour chaque table, colonne\n",
    "        delete_phrase_query = \"DELETE FROM phrase_originale WHERE phrase_id = %s\"\n",
    "        cursor.execute(delete_phrase_query, (item_id,))\n",
    "\n",
    "        delete_trad_auto_query = \"DELETE FROM trad_auto WHERE trad_auto_id = %s\"\n",
    "        cursor.execute(delete_trad_auto_query, (item_id,))\n",
    "\n",
    "        delete_trad_hum_query = \"DELETE FROM trad_hum WHERE trad_hum_id = %s\"\n",
    "        cursor.execute(delete_trad_hum_query, (item_id,))\n",
    "\n",
    "        connection.commit() # on sauvegarde les changements\n",
    "        cursor.close() # on ferme le curseur\n",
    "        connection.close() # on ferme la connection\n",
    "\n",
    "        return 'suppression réussie' # message qui indique la réussite de la tâche\n",
    "\n",
    "    except mysql.connector.Error as error:\n",
    "        return f'Error: {error}'"
   ]
  },
  {
   "cell_type": "code",
   "execution_count": 526,
   "metadata": {},
   "outputs": [
    {
     "name": "stdout",
     "output_type": "stream",
     "text": [
      " * Serving Flask app '__main__'\n",
      " * Debug mode: on\n"
     ]
    },
    {
     "name": "stderr",
     "output_type": "stream",
     "text": [
      "WARNING: This is a development server. Do not use it in a production deployment. Use a production WSGI server instead.\n",
      " * Running on http://127.0.0.1:5000\n",
      "Press CTRL+C to quit\n",
      "127.0.0.1 - - [04/Dec/2023 15:50:19] \"GET / HTTP/1.1\" 200 -\n",
      "127.0.0.1 - - [04/Dec/2023 15:50:26] \"GET /tables HTTP/1.1\" 200 -\n",
      "127.0.0.1 - - [04/Dec/2023 15:50:30] \"GET /tables/phrase_originale HTTP/1.1\" 200 -\n",
      "127.0.0.1 - - [04/Dec/2023 15:50:36] \"GET /tables/phrase_originale/id/5 HTTP/1.1\" 404 -\n",
      "127.0.0.1 - - [04/Dec/2023 15:50:43] \"GET /tables/trad_auto/id/5 HTTP/1.1\" 404 -\n",
      "127.0.0.1 - - [04/Dec/2023 15:50:48] \"GET /tables/trad_hum/id/5 HTTP/1.1\" 404 -\n"
     ]
    }
   ],
   "source": [
    "# permet de lancer le serveur une fois les blocs de chemin chargés\n",
    "if __name__ == '__main__':\n",
    "    app.run(debug=True, use_reloader=False)"
   ]
  }
 ],
 "metadata": {
  "kernelspec": {
   "display_name": "Python 3",
   "language": "python",
   "name": "python3"
  },
  "language_info": {
   "codemirror_mode": {
    "name": "ipython",
    "version": 3
   },
   "file_extension": ".py",
   "mimetype": "text/x-python",
   "name": "python",
   "nbconvert_exporter": "python",
   "pygments_lexer": "ipython3",
   "version": "3.11.4"
  }
 },
 "nbformat": 4,
 "nbformat_minor": 2
}
